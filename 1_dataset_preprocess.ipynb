{
 "cells": [
  {
   "cell_type": "markdown",
   "id": "207ef340",
   "metadata": {},
   "source": [
    "Load mat file from dataset"
   ]
  },
  {
   "cell_type": "code",
   "execution_count": null,
   "id": "6f977688-70fe-4d01-b96a-5a14535e8882",
   "metadata": {},
   "outputs": [],
   "source": [
    "import h5py\n",
    "\n",
    "def load_mat_file(filename):\n",
    "    with h5py.File(filename, 'r') as f:\n",
    "        digit_struct = f['digitStruct']\n",
    "        name_refs = digit_struct['name']\n",
    "        bbox_refs = digit_struct['bbox']\n",
    "\n",
    "        def get_name(index):\n",
    "            name_ref = f[name_refs[index][0]][()]\n",
    "            return ''.join(chr(c[0]) for c in name_ref)\n",
    "\n",
    "        def get_bbox(index):\n",
    "            bbox = {}\n",
    "            box = f[bbox_refs[index][0]]\n",
    "            for key in box.keys():\n",
    "                attr = box[key]\n",
    "                values = []\n",
    "                if len(attr) > 1:\n",
    "                    for i in range(len(attr)):\n",
    "                        values.append(int(f[attr[i][0]][()][0]))\n",
    "                else:\n",
    "                    values.append(int(attr[0][0]))\n",
    "                bbox[key] = values\n",
    "            return bbox\n",
    "\n",
    "        data = []\n",
    "        for i in range(len(name_refs)):\n",
    "            name = get_name(i)\n",
    "            bbox = get_bbox(i)\n",
    "            data.append({'name': name, 'bbox': bbox})\n",
    "        return data"
   ]
  },
  {
   "cell_type": "markdown",
   "id": "353d1259",
   "metadata": {},
   "source": [
    "image and label preprocess"
   ]
  },
  {
   "cell_type": "code",
   "execution_count": null,
   "id": "6f944c00-7031-45b5-8131-fca73ba11011",
   "metadata": {},
   "outputs": [],
   "source": [
    "import cv2\n",
    "import tensorflow as tf\n",
    "import os\n",
    "import numpy as np\n",
    "import matplotlib.pyplot as plt\n",
    "\n",
    "def image_preprocess(img, bbox):\n",
    "    img_w,img_h = img.shape[1],img.shape[0]\n",
    "    lx1 = [bbox['left'][i] for i in range(len(bbox['label']))]\n",
    "    ly1 = [bbox['top'][i] for i in range(len(bbox['label']))]\n",
    "    lx2 = [bbox['left'][i]+bbox['width'][i] for i in range(len(bbox['label']))]\n",
    "    ly2 = [bbox['top'][i]+bbox['height'][i] for i in range(len(bbox['label']))]\n",
    "    x1,y1,x2,y2 = min(lx1), min(ly1), max(lx2), max(ly2)\n",
    "    x1,y1,x2,y2 = max(x1-0.2*(x2-x1),0), max(y1-0.2*(y2-y1),0), min(x1+1.2*(x2-x1),img_w-1), min(y1+1.2*(y2-y1),img_h-1)\n",
    "    x1,y1,x2,y2 = int(x1),int(y1),int(x2),int(y2)\n",
    "    img = img[y1:y2, x1:x2]\n",
    "    img = cv2.cvtColor(img, cv2.COLOR_BGR2GRAY)  # 如果需要转换为灰度图像\n",
    "    img = cv2.resize(img, (32, 32))  # 根据需要调整尺寸\n",
    "    img = img.astype('float32') / 255.0 # 归一化\n",
    "    return img\n",
    "\n",
    "def label_preprocess(bbox):\n",
    "    label_raw = bbox['label']\n",
    "    if len(label_raw) != 2:\n",
    "        return None\n",
    "    label = [num % 10 for num in label_raw]\n",
    "    onehot_label = np.zeros((2, 10), dtype=int)\n",
    "    for i in range(2):\n",
    "        onehot_label[i][label[i]] = 1\n",
    "    return onehot_label\n",
    "\n"
   ]
  },
  {
   "cell_type": "markdown",
   "id": "47f45ae4",
   "metadata": {},
   "source": [
    "Load dataset"
   ]
  },
  {
   "cell_type": "code",
   "execution_count": null,
   "id": "f2a40221",
   "metadata": {},
   "outputs": [],
   "source": [
    "def load_dataset(data, image_dir):\n",
    "    images = []\n",
    "    labels = []\n",
    "\n",
    "    for item in data:\n",
    "        bbox = item['bbox']\n",
    "        onehot_label = label_preprocess(bbox)\n",
    "        if onehot_label is None:\n",
    "            continue\n",
    "        img_path = os.path.join(image_dir, item['name'])\n",
    "        img = cv2.imread(img_path)\n",
    "        img = image_preprocess(img, bbox)\n",
    "        \n",
    "        labels.append(onehot_label)\n",
    "        images.append(img)\n",
    "\n",
    "    images = np.array(images)\n",
    "    images = np.expand_dims(images, axis=-1)\n",
    "    labels = np.array(labels)\n",
    "    \n",
    "    return images, labels"
   ]
  },
  {
   "cell_type": "markdown",
   "id": "bc2cff4c",
   "metadata": {},
   "source": [
    "perform and save processed dataset to h5 files"
   ]
  },
  {
   "cell_type": "code",
   "execution_count": null,
   "id": "cb208a3e-f9a2-4caf-855f-b0eaa0f5e4ba",
   "metadata": {},
   "outputs": [],
   "source": [
    "digit_struct_data_train = load_mat_file('data/train/digitStruct.mat')\n",
    "train_images, train_labels = load_dataset(digit_struct_data_train, 'data/train')\n",
    "with h5py.File('svhn_dataset/svhn_2digits_train.h5', 'w') as f:\n",
    "    f.create_dataset('images', data=np.array(train_images))\n",
    "    f.create_dataset('labels', data=np.array(train_labels))\n",
    "\n",
    "digit_struct_data_test = load_mat_file('data/test/digitStruct.mat')\n",
    "test_images, test_labels = load_dataset(digit_struct_data_test, 'data/test')\n",
    "with h5py.File('svhn_dataset/svhn_2digits_test.h5', 'w') as f:\n",
    "    f.create_dataset('images', data=np.array(test_images))\n",
    "    f.create_dataset('labels', data=np.array(test_labels))"
   ]
  }
 ],
 "metadata": {
  "kernelspec": {
   "display_name": "Python 3 (ipykernel)",
   "language": "python",
   "name": "python3"
  },
  "language_info": {
   "codemirror_mode": {
    "name": "ipython",
    "version": 3
   },
   "file_extension": ".py",
   "mimetype": "text/x-python",
   "name": "python",
   "nbconvert_exporter": "python",
   "pygments_lexer": "ipython3",
   "version": "3.8.18"
  }
 },
 "nbformat": 4,
 "nbformat_minor": 5
}
