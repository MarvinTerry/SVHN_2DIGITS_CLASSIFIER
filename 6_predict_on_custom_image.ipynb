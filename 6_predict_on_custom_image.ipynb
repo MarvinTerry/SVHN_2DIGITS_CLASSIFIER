{
 "cells": [
  {
   "cell_type": "markdown",
   "id": "3b732cf9",
   "metadata": {},
   "source": [
    "preprocess images "
   ]
  },
  {
   "cell_type": "code",
   "execution_count": 1,
   "id": "c53681bc",
   "metadata": {},
   "outputs": [],
   "source": [
    "import cv2\n",
    "import numpy as np\n",
    "from typing import List\n",
    "\n",
    "def preprocess_images(images:List[np.ndarray]):\n",
    "    gray_images = [cv2.cvtColor(image, cv2.COLOR_BGR2GRAY) for image in images]\n",
    "    resized_images = np.array([cv2.resize(gray_image, (32, 32)) for gray_image in gray_images])\n",
    "    normalized_images = resized_images.astype('float32') / 255.0\n",
    "    return np.expand_dims(normalized_images, axis=-1)"
   ]
  },
  {
   "cell_type": "markdown",
   "id": "83dece89",
   "metadata": {},
   "source": [
    "predict func"
   ]
  },
  {
   "cell_type": "code",
   "execution_count": 2,
   "id": "ba89122e-76fb-47c4-a09f-27ab4ff84c6d",
   "metadata": {},
   "outputs": [],
   "source": [
    "def predict_images(model, images:List[np.ndarray]):\n",
    "    processed_images = preprocess_images(images)\n",
    "\n",
    "    predictions = model.predict(processed_images)\n",
    "\n",
    "    predicted_labels = [''.join(map(str, row)) for row in np.argmax(predictions, axis=2)]\n",
    "    predicted_confs = np.min(np.max(predictions, axis=2),axis=1)\n",
    "\n",
    "    return predicted_labels, predicted_confs"
   ]
  },
  {
   "cell_type": "markdown",
   "id": "ac8642db",
   "metadata": {},
   "source": [
    "read png from dir"
   ]
  },
  {
   "cell_type": "code",
   "execution_count": 3,
   "id": "963970ea",
   "metadata": {},
   "outputs": [],
   "source": [
    "import glob\n",
    "import os\n",
    "\n",
    "def read_all_png(directory):\n",
    "    pattern = os.path.join(directory, \"*.png\")\n",
    "    png_files = glob.glob(pattern)\n",
    "    images = [cv2.imread(file) for file in png_files]\n",
    "    \n",
    "    return images"
   ]
  },
  {
   "cell_type": "markdown",
   "id": "927514ce",
   "metadata": {},
   "source": [
    "plt show"
   ]
  },
  {
   "cell_type": "code",
   "execution_count": 4,
   "id": "7cbe0fbf",
   "metadata": {},
   "outputs": [],
   "source": [
    "import matplotlib.pyplot as plt\n",
    "import random\n",
    "\n",
    "def show_predict_result(model, directory):\n",
    "    pattern = os.path.join(directory, \"*.png\")\n",
    "    \n",
    "    # 查找目录下所有的 PNG 文件\n",
    "    png_files = glob.glob(pattern)\n",
    "\n",
    "    print(png_files)\n",
    "    \n",
    "    # 使用 OpenCV 读取每个 PNG 文件\n",
    "    images = [cv2.imread(file) for file in png_files]\n",
    "    predicted_labels, predicted_confs = predict_images(model, images)\n",
    "\n",
    "    plt.figure(figsize=(15, 7))\n",
    "    for i in range(10):\n",
    "        plt.subplot(2, 5, i + 1)\n",
    "        plt.imshow(images[i], cmap='gray')\n",
    "        plt.axis('off')\n",
    "        plt.title(f'Predicted: {predicted_labels[i]}\\nConf: {predicted_confs[i]:.2f}')\n",
    "    plt.show()"
   ]
  },
  {
   "cell_type": "code",
   "execution_count": 5,
   "id": "0b33b675",
   "metadata": {},
   "outputs": [
    {
     "name": "stderr",
     "output_type": "stream",
     "text": [
      "2024-08-12 13:27:20.661814: I tensorflow/core/util/port.cc:110] oneDNN custom operations are on. You may see slightly different numerical results due to floating-point round-off errors from different computation orders. To turn them off, set the environment variable `TF_ENABLE_ONEDNN_OPTS=0`.\n",
      "2024-08-12 13:27:20.663231: I tensorflow/tsl/cuda/cudart_stub.cc:28] Could not find cuda drivers on your machine, GPU will not be used.\n",
      "2024-08-12 13:27:20.691269: I tensorflow/tsl/cuda/cudart_stub.cc:28] Could not find cuda drivers on your machine, GPU will not be used.\n",
      "2024-08-12 13:27:20.691781: I tensorflow/core/platform/cpu_feature_guard.cc:182] This TensorFlow binary is optimized to use available CPU instructions in performance-critical operations.\n",
      "To enable the following instructions: AVX2 AVX512F AVX512_VNNI FMA, in other operations, rebuild TensorFlow with the appropriate compiler flags.\n",
      "2024-08-12 13:27:21.186757: W tensorflow/compiler/tf2tensorrt/utils/py_utils.cc:38] TF-TRT Warning: Could not find TensorRT\n"
     ]
    },
    {
     "ename": "OSError",
     "evalue": "No file or directory found at models/svhn_2digits_model.keras",
     "output_type": "error",
     "traceback": [
      "\u001b[0;31m---------------------------------------------------------------------------\u001b[0m",
      "\u001b[0;31mOSError\u001b[0m                                   Traceback (most recent call last)",
      "\u001b[1;32m/home/marvinterry/Documents/GitHub/svhn_2digits_model/notebooks/6_predict_on_custom_image.ipynb Cell 9\u001b[0m line \u001b[0;36m3\n\u001b[1;32m      <a href='vscode-notebook-cell:/home/marvinterry/Documents/GitHub/svhn_2digits_model/notebooks/6_predict_on_custom_image.ipynb#X11sZmlsZQ%3D%3D?line=0'>1</a>\u001b[0m \u001b[39mimport\u001b[39;00m \u001b[39mtensorflow\u001b[39;00m \u001b[39mas\u001b[39;00m \u001b[39mtf\u001b[39;00m\n\u001b[0;32m----> <a href='vscode-notebook-cell:/home/marvinterry/Documents/GitHub/svhn_2digits_model/notebooks/6_predict_on_custom_image.ipynb#X11sZmlsZQ%3D%3D?line=2'>3</a>\u001b[0m model \u001b[39m=\u001b[39m tf\u001b[39m.\u001b[39;49mkeras\u001b[39m.\u001b[39;49mmodels\u001b[39m.\u001b[39;49mload_model(\u001b[39m'\u001b[39;49m\u001b[39mmodels/svhn_2digits_model.keras\u001b[39;49m\u001b[39m'\u001b[39;49m)\n\u001b[1;32m      <a href='vscode-notebook-cell:/home/marvinterry/Documents/GitHub/svhn_2digits_model/notebooks/6_predict_on_custom_image.ipynb#X11sZmlsZQ%3D%3D?line=4'>5</a>\u001b[0m show_predict_result(model, \u001b[39m'\u001b[39m\u001b[39mcustom_images/\u001b[39m\u001b[39m'\u001b[39m)\n",
      "File \u001b[0;32m~/anaconda3/envs/yolov8/lib/python3.8/site-packages/keras/src/saving/saving_api.py:238\u001b[0m, in \u001b[0;36mload_model\u001b[0;34m(filepath, custom_objects, compile, safe_mode, **kwargs)\u001b[0m\n\u001b[1;32m    230\u001b[0m     \u001b[39mreturn\u001b[39;00m saving_lib\u001b[39m.\u001b[39mload_model(\n\u001b[1;32m    231\u001b[0m         filepath,\n\u001b[1;32m    232\u001b[0m         custom_objects\u001b[39m=\u001b[39mcustom_objects,\n\u001b[1;32m    233\u001b[0m         \u001b[39mcompile\u001b[39m\u001b[39m=\u001b[39m\u001b[39mcompile\u001b[39m,\n\u001b[1;32m    234\u001b[0m         safe_mode\u001b[39m=\u001b[39msafe_mode,\n\u001b[1;32m    235\u001b[0m     )\n\u001b[1;32m    237\u001b[0m \u001b[39m# Legacy case.\u001b[39;00m\n\u001b[0;32m--> 238\u001b[0m \u001b[39mreturn\u001b[39;00m legacy_sm_saving_lib\u001b[39m.\u001b[39;49mload_model(\n\u001b[1;32m    239\u001b[0m     filepath, custom_objects\u001b[39m=\u001b[39;49mcustom_objects, \u001b[39mcompile\u001b[39;49m\u001b[39m=\u001b[39;49m\u001b[39mcompile\u001b[39;49m, \u001b[39m*\u001b[39;49m\u001b[39m*\u001b[39;49mkwargs\n\u001b[1;32m    240\u001b[0m )\n",
      "File \u001b[0;32m~/anaconda3/envs/yolov8/lib/python3.8/site-packages/keras/src/utils/traceback_utils.py:70\u001b[0m, in \u001b[0;36mfilter_traceback.<locals>.error_handler\u001b[0;34m(*args, **kwargs)\u001b[0m\n\u001b[1;32m     67\u001b[0m     filtered_tb \u001b[39m=\u001b[39m _process_traceback_frames(e\u001b[39m.\u001b[39m__traceback__)\n\u001b[1;32m     68\u001b[0m     \u001b[39m# To get the full stack trace, call:\u001b[39;00m\n\u001b[1;32m     69\u001b[0m     \u001b[39m# `tf.debugging.disable_traceback_filtering()`\u001b[39;00m\n\u001b[0;32m---> 70\u001b[0m     \u001b[39mraise\u001b[39;00m e\u001b[39m.\u001b[39mwith_traceback(filtered_tb) \u001b[39mfrom\u001b[39;00m \u001b[39mNone\u001b[39;00m\n\u001b[1;32m     71\u001b[0m \u001b[39mfinally\u001b[39;00m:\n\u001b[1;32m     72\u001b[0m     \u001b[39mdel\u001b[39;00m filtered_tb\n",
      "File \u001b[0;32m~/anaconda3/envs/yolov8/lib/python3.8/site-packages/keras/src/saving/legacy/save.py:234\u001b[0m, in \u001b[0;36mload_model\u001b[0;34m(filepath, custom_objects, compile, options)\u001b[0m\n\u001b[1;32m    232\u001b[0m \u001b[39mif\u001b[39;00m \u001b[39misinstance\u001b[39m(filepath_str, \u001b[39mstr\u001b[39m):\n\u001b[1;32m    233\u001b[0m     \u001b[39mif\u001b[39;00m \u001b[39mnot\u001b[39;00m tf\u001b[39m.\u001b[39mio\u001b[39m.\u001b[39mgfile\u001b[39m.\u001b[39mexists(filepath_str):\n\u001b[0;32m--> 234\u001b[0m         \u001b[39mraise\u001b[39;00m \u001b[39mIOError\u001b[39;00m(\n\u001b[1;32m    235\u001b[0m             \u001b[39mf\u001b[39m\u001b[39m\"\u001b[39m\u001b[39mNo file or directory found at \u001b[39m\u001b[39m{\u001b[39;00mfilepath_str\u001b[39m}\u001b[39;00m\u001b[39m\"\u001b[39m\n\u001b[1;32m    236\u001b[0m         )\n\u001b[1;32m    238\u001b[0m     \u001b[39mif\u001b[39;00m tf\u001b[39m.\u001b[39mio\u001b[39m.\u001b[39mgfile\u001b[39m.\u001b[39misdir(filepath_str):\n\u001b[1;32m    239\u001b[0m         \u001b[39mreturn\u001b[39;00m saved_model_load\u001b[39m.\u001b[39mload(\n\u001b[1;32m    240\u001b[0m             filepath_str, \u001b[39mcompile\u001b[39m, options\n\u001b[1;32m    241\u001b[0m         )\n",
      "\u001b[0;31mOSError\u001b[0m: No file or directory found at models/svhn_2digits_model.keras"
     ]
    }
   ],
   "source": [
    "import tensorflow as tf\n",
    "\n",
    "model = tf.keras.models.load_model('models/svhn_2digits_model.keras')\n",
    "\n",
    "show_predict_result(model, 'custom_images/')"
   ]
  }
 ],
 "metadata": {
  "kernelspec": {
   "display_name": "Python 3 (ipykernel)",
   "language": "python",
   "name": "python3"
  },
  "language_info": {
   "codemirror_mode": {
    "name": "ipython",
    "version": 3
   },
   "file_extension": ".py",
   "mimetype": "text/x-python",
   "name": "python",
   "nbconvert_exporter": "python",
   "pygments_lexer": "ipython3",
   "version": "3.8.18"
  }
 },
 "nbformat": 4,
 "nbformat_minor": 5
}
