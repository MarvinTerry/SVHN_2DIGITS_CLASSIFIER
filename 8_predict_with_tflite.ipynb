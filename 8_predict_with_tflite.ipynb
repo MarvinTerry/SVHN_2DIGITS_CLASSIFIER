{
 "cells": [
  {
   "cell_type": "code",
   "execution_count": 3,
   "metadata": {},
   "outputs": [],
   "source": [
    "import cv2\n",
    "import numpy as np\n",
    "import tensorflow as tf\n",
    "\n",
    "class DIGITS_CLASSIFIER():\n",
    "    def __init__(self, model_path) -> None:\n",
    "        interpreter = tf.lite.Interpreter(model_path)\n",
    "        interpreter.allocate_tensors()\n",
    "        self.digits_classifier = interpreter.get_signature_runner('serving_default')\n",
    "\n",
    "    def preprocess_image(self, images):\n",
    "        gray_images = [cv2.cvtColor(image, cv2.COLOR_BGR2GRAY) for image in images]\n",
    "        resized_images = np.array([cv2.resize(gray_image, (32, 32)) for gray_image in gray_images])\n",
    "        normalized_images = resized_images.astype('float32') / 255.0\n",
    "        return np.expand_dims(normalized_images, axis=-1)\n",
    "    \n",
    "    def postprocess_predictions(self, predictions):\n",
    "        predictions = predictions['tf.stack']\n",
    "        predicted_labels = [''.join(map(str, row)) for row in np.argmax(predictions, axis=2)]\n",
    "        predicted_confs = np.min(np.max(predictions, axis=2),axis=1)\n",
    "        return predicted_labels, predicted_confs\n",
    "\n",
    "    def predict(self, images):\n",
    "        predictions = self.digits_classifier(input_1=self.preprocess_image(images))\n",
    "        return self.postprocess_predictions(predictions)"
   ]
  },
  {
   "cell_type": "code",
   "execution_count": 4,
   "metadata": {},
   "outputs": [],
   "source": [
    "digits_classifier = DIGITS_CLASSIFIER('models/svhn_2digits_model.tflite')"
   ]
  },
  {
   "cell_type": "code",
   "execution_count": 7,
   "metadata": {},
   "outputs": [
    {
     "name": "stdout",
     "output_type": "stream",
     "text": [
      "['38', '29']\n",
      "[0.9425901 0.9984584]\n"
     ]
    }
   ],
   "source": [
    "images = [cv2.imread('images4test/2.png'),cv2.imread('custom_images/6.png')]\n",
    "predicted_labels, predicted_confs = digits_classifier.predict(images)\n",
    "print(predicted_labels)\n",
    "print(predicted_confs)"
   ]
  }
 ],
 "metadata": {
  "kernelspec": {
   "display_name": "yolov8",
   "language": "python",
   "name": "python3"
  },
  "language_info": {
   "codemirror_mode": {
    "name": "ipython",
    "version": 3
   },
   "file_extension": ".py",
   "mimetype": "text/x-python",
   "name": "python",
   "nbconvert_exporter": "python",
   "pygments_lexer": "ipython3",
   "version": "3.8.18"
  },
  "orig_nbformat": 4
 },
 "nbformat": 4,
 "nbformat_minor": 2
}
