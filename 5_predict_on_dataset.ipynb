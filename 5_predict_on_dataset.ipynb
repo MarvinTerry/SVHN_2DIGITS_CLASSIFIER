{
 "cells": [
  {
   "cell_type": "markdown",
   "id": "8124692a",
   "metadata": {},
   "source": [
    "Load trained model"
   ]
  },
  {
   "cell_type": "code",
   "execution_count": 58,
   "id": "595c59db-6133-4bd7-a3b3-de90f2e853e1",
   "metadata": {},
   "outputs": [],
   "source": [
    "import tensorflow as tf\n",
    "\n",
    "model = tf.keras.models.load_model('models/svhn_2digits_model.keras')"
   ]
  },
  {
   "cell_type": "markdown",
   "id": "351893ad",
   "metadata": {},
   "source": [
    "batch data generator to generate test data"
   ]
  },
  {
   "cell_type": "code",
   "execution_count": 59,
   "id": "9d6a9ef1-454b-41b0-a2eb-b55a33c5f5d4",
   "metadata": {},
   "outputs": [],
   "source": [
    "import h5py\n",
    "import numpy as np\n",
    "import random\n",
    "\n",
    "def data_generator(h5_dataset_path, batch_size):\n",
    "    with h5py.File(h5_dataset_path, 'r') as f:\n",
    "        num_samples = f['images'].shape[0]\n",
    "        num_batches = int(np.ceil(num_samples / batch_size))\n",
    "        \n",
    "        while True:  # 生成器需要无限循环\n",
    "            index_list = list(range(num_batches))\n",
    "            random.shuffle(index_list)\n",
    "            for i in index_list:\n",
    "                start_index = i * batch_size\n",
    "                end_index = min((i + 1) * batch_size, num_samples)\n",
    "\n",
    "                batch_images = f['images'][start_index:end_index]\n",
    "                batch_labels = f['labels'][start_index:end_index]\n",
    "                \n",
    "                yield batch_images, batch_labels"
   ]
  },
  {
   "cell_type": "markdown",
   "id": "75257efa",
   "metadata": {},
   "source": [
    "Predict and show"
   ]
  },
  {
   "cell_type": "code",
   "execution_count": 60,
   "id": "731e8b22-0f94-4ccf-92db-5e50ff0da6f4",
   "metadata": {},
   "outputs": [],
   "source": [
    "import matplotlib.pyplot as plt\n",
    "\n",
    "def checkout_predict_result(model, batch_images, batch_labels):\n",
    "\n",
    "    predictions = model.predict(batch_images)\n",
    "\n",
    "    original_labels = [''.join(map(str, row)) for row in np.argmax(batch_labels, axis=2)] \n",
    "    predicted_labels = [''.join(map(str, row)) for row in np.argmax(predictions, axis=2)]\n",
    "    predicted_confs = np.min(np.max(predictions, axis=2),axis=1)\n",
    "    \n",
    "    plt.figure(figsize=(15, 7))\n",
    "    for i in range(10):\n",
    "        plt.subplot(2, 5, i + 1)\n",
    "        plt.imshow(batch_images[i], cmap='gray')\n",
    "        plt.axis('off')\n",
    "        plt.title(f'Original: {original_labels[i]}\\nPredicted: {predicted_labels[i]}\\nConf: {predicted_confs[i]:.2f}')\n",
    "    plt.show()"
   ]
  },
  {
   "cell_type": "code",
   "execution_count": 63,
   "id": "369358b3-0569-4097-9d13-c294e019faae",
   "metadata": {},
   "outputs": [
    {
     "name": "stdout",
     "output_type": "stream",
     "text": [
      "8356\n",
      "32/32 [==============================] - 0s 5ms/step\n"
     ]
    }
   ],
   "source": [
    "for batch_images, batch_labels in data_generator('svhn_dataset/svhn_2digits_test.h5', batch_size=1000):\n",
    "    checkout_predict_result(model, batch_images, batch_labels)\n",
    "    break"
   ]
  }
 ],
 "metadata": {
  "kernelspec": {
   "display_name": "Python 3 (ipykernel)",
   "language": "python",
   "name": "python3"
  },
  "language_info": {
   "codemirror_mode": {
    "name": "ipython",
    "version": 3
   },
   "file_extension": ".py",
   "mimetype": "text/x-python",
   "name": "python",
   "nbconvert_exporter": "python",
   "pygments_lexer": "ipython3",
   "version": "3.8.18"
  }
 },
 "nbformat": 4,
 "nbformat_minor": 5
}
